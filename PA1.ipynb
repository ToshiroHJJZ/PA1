{
 "cells": [
  {
   "cell_type": "markdown",
   "id": "6659d77a",
   "metadata": {},
   "source": [
    "### Working on Markdown and submit using GitHub, Jonathan Penaloza, Version 1, Spring 2023"
   ]
  },
  {
   "cell_type": "markdown",
   "id": "68370b0d",
   "metadata": {},
   "source": [
    "# 2023SP Computer Prog for Liberal Arts (CS-150-01)"
   ]
  },
  {
   "cell_type": "markdown",
   "id": "83549d2f",
   "metadata": {},
   "source": [
    "## Getting started with markdown"
   ]
  },
  {
   "cell_type": "markdown",
   "id": "682a84cd",
   "metadata": {},
   "source": [
    "> Today is Monday"
   ]
  },
  {
   "cell_type": "markdown",
   "id": "3a470de7",
   "metadata": {},
   "source": [
    "* Variables and Simple Data Types\n",
    "* Introducing Lists, Tuples\n",
    "* Introducing Lists, Tuples cont.\n",
    "* if Statements\n",
    "* Dictionaries\n",
    "* Loops\n",
    "* Functions\n",
    "* Classes\n",
    "* Numpy"
   ]
  },
  {
   "cell_type": "markdown",
   "id": "4d26e0a5",
   "metadata": {},
   "source": [
    "1. Assingment 1\n",
    "2. Assingment 2\n",
    "3. Assingment 3\n",
    "4. Assingment 4\n",
    "5. Assingment 5\n",
    "6. Assingment 6\n",
    "7. Assingment 7"
   ]
  },
  {
   "cell_type": "markdown",
   "id": "f7461702",
   "metadata": {},
   "source": [
    "**Sometimes Python can be confusing**"
   ]
  },
  {
   "cell_type": "markdown",
   "id": "af36ceb2",
   "metadata": {},
   "source": [
    "*I am really hoping this semester is good*"
   ]
  },
  {
   "cell_type": "markdown",
   "id": "e57869b9",
   "metadata": {},
   "source": [
    "`JADF`"
   ]
  },
  {
   "cell_type": "markdown",
   "id": "4ae3d77e",
   "metadata": {},
   "source": [
    "<a href=\"https://github.com/ToshiroHJJZ?\">this link</a>"
   ]
  },
  {
   "cell_type": "markdown",
   "id": "7a18048a",
   "metadata": {},
   "source": [
    "![Python \n",
    "  Logo](https://pngimg.com/uploads/rubik_cube/rubik_cube_PNG22.png)"
   ]
  },
  {
   "cell_type": "code",
   "execution_count": null,
   "id": "2908303b",
   "metadata": {},
   "outputs": [],
   "source": []
  },
  {
   "cell_type": "code",
   "execution_count": null,
   "id": "7a4f2347",
   "metadata": {},
   "outputs": [],
   "source": []
  },
  {
   "cell_type": "code",
   "execution_count": null,
   "id": "6008333c",
   "metadata": {},
   "outputs": [],
   "source": []
  },
  {
   "cell_type": "code",
   "execution_count": null,
   "id": "dd94a941",
   "metadata": {},
   "outputs": [],
   "source": []
  }
 ],
 "metadata": {
  "kernelspec": {
   "display_name": "Python 3 (ipykernel)",
   "language": "python",
   "name": "python3"
  },
  "language_info": {
   "codemirror_mode": {
    "name": "ipython",
    "version": 3
   },
   "file_extension": ".py",
   "mimetype": "text/x-python",
   "name": "python",
   "nbconvert_exporter": "python",
   "pygments_lexer": "ipython3",
   "version": "3.9.13"
  }
 },
 "nbformat": 4,
 "nbformat_minor": 5
}
